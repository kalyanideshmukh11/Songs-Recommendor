{
 "cells": [
  {
   "cell_type": "markdown",
   "metadata": {},
   "source": [
    "# Submitted by Kalyani Deshmukh 011414663"
   ]
  },
  {
   "cell_type": "markdown",
   "metadata": {},
   "source": [
    "After trying building jaccard similarity for using meta data, spliting the dataset, \n",
    "using group by and training it on vairety of datasets and models with different parameters, \n",
    "I found SVD with the below parameters gave the lowest RMSE on kaggle board."
   ]
  },
  {
   "cell_type": "code",
   "execution_count": 1,
   "metadata": {},
   "outputs": [],
   "source": [
    "from surprise import Dataset\n",
    "from surprise import Reader\n",
    "from surprise.model_selection.split import train_test_split\n",
    "import pandas as pd\n",
    "from surprise import SVD"
   ]
  },
  {
   "cell_type": "code",
   "execution_count": 2,
   "metadata": {},
   "outputs": [],
   "source": [
    "#Read Train dataset\n",
    "ratings_df  = pd.read_csv('train.csv')\n",
    "ratings_df.columns = ['User', 'Track', 'Rating']\n",
    "#Read song  metadata\n",
    "artist_df =  pd.read_csv('Artist.csv')\n",
    "#Read test set\n",
    "testset  = pd.read_csv('test.csv')\n",
    "testset.columns = ['User', 'Track']"
   ]
  },
  {
   "cell_type": "code",
   "execution_count": 7,
   "metadata": {},
   "outputs": [
    {
     "data": {
      "text/plain": [
       "<surprise.dataset.DatasetAutoFolds at 0x1dd9ae1c550>"
      ]
     },
     "execution_count": 7,
     "metadata": {},
     "output_type": "execute_result"
    }
   ],
   "source": [
    "# Retrieve the trainset.\n",
    "reader = Reader(rating_scale=(1,100))\n",
    "data=Dataset.load_from_df(ratings_df,reader)\n",
    "trainset = data.build_full_trainset()\n",
    "data"
   ]
  },
  {
   "cell_type": "code",
   "execution_count": 12,
   "metadata": {},
   "outputs": [],
   "source": [
    "#SVD Matrix Factorization\n",
    "algo = SVD(n_factors=250,n_epochs=30,reg_all=0.0005)"
   ]
  },
  {
   "cell_type": "markdown",
   "metadata": {},
   "source": [
    "n_factors : The number of factors.\n",
    "n_epoch : The number of iteration of the SGD procedure.\n",
    "reg_all : The regularization term for all parameters."
   ]
  },
  {
   "cell_type": "code",
   "execution_count": 13,
   "metadata": {},
   "outputs": [
    {
     "data": {
      "text/plain": [
       "<surprise.prediction_algorithms.matrix_factorization.SVD at 0x259734f2f28>"
      ]
     },
     "execution_count": 13,
     "metadata": {},
     "output_type": "execute_result"
    }
   ],
   "source": [
    "#Fit the model on train dataset\n",
    "algo.fit(trainset)"
   ]
  },
  {
   "cell_type": "code",
   "execution_count": 14,
   "metadata": {},
   "outputs": [],
   "source": [
    "#Predict value for every row in test dataset\n",
    "predictions=[]\n",
    "for i in range(len(testset)):\n",
    "    uid=testset.loc[i,\"User\"]\n",
    "    iid=testset.loc[i,\"Track\"]\n",
    "    pred= algo.predict(uid,iid)\n",
    "    predictions.append(pred[3])\n",
    "testset['Rating'] = predictions"
   ]
  },
  {
   "cell_type": "code",
   "execution_count": 15,
   "metadata": {},
   "outputs": [
    {
     "data": {
      "text/html": [
       "<div>\n",
       "<style scoped>\n",
       "    .dataframe tbody tr th:only-of-type {\n",
       "        vertical-align: middle;\n",
       "    }\n",
       "\n",
       "    .dataframe tbody tr th {\n",
       "        vertical-align: top;\n",
       "    }\n",
       "\n",
       "    .dataframe thead th {\n",
       "        text-align: right;\n",
       "    }\n",
       "</style>\n",
       "<table border=\"1\" class=\"dataframe\">\n",
       "  <thead>\n",
       "    <tr style=\"text-align: right;\">\n",
       "      <th></th>\n",
       "      <th>Id</th>\n",
       "      <th>Rating</th>\n",
       "    </tr>\n",
       "  </thead>\n",
       "  <tbody>\n",
       "    <tr>\n",
       "      <td>0</td>\n",
       "      <td>3-3</td>\n",
       "      <td>31.272212</td>\n",
       "    </tr>\n",
       "    <tr>\n",
       "      <td>1</td>\n",
       "      <td>6-0</td>\n",
       "      <td>39.269799</td>\n",
       "    </tr>\n",
       "    <tr>\n",
       "      <td>2</td>\n",
       "      <td>12-1</td>\n",
       "      <td>37.737483</td>\n",
       "    </tr>\n",
       "    <tr>\n",
       "      <td>3</td>\n",
       "      <td>12-3</td>\n",
       "      <td>35.847057</td>\n",
       "    </tr>\n",
       "    <tr>\n",
       "      <td>4</td>\n",
       "      <td>13-2</td>\n",
       "      <td>34.168008</td>\n",
       "    </tr>\n",
       "  </tbody>\n",
       "</table>\n",
       "</div>"
      ],
      "text/plain": [
       "     Id     Rating\n",
       "0   3-3  31.272212\n",
       "1   6-0  39.269799\n",
       "2  12-1  37.737483\n",
       "3  12-3  35.847057\n",
       "4  13-2  34.168008"
      ]
     },
     "execution_count": 15,
     "metadata": {},
     "output_type": "execute_result"
    }
   ],
   "source": [
    "#formating output in expected format\n",
    "testset['Id'] = testset['User'].astype(str) + \"-\" + testset['Track'].astype(str)\n",
    "columnsTitles = ['Id','Rating']\n",
    "result = testset.reindex(columns=columnsTitles)\n",
    "result.head()"
   ]
  },
  {
   "cell_type": "code",
   "execution_count": 16,
   "metadata": {},
   "outputs": [],
   "source": [
    "#Save output to sample.csv file\n",
    "result.to_csv(\"sample.csv\",index=False)"
   ]
  },
  {
   "cell_type": "markdown",
   "metadata": {},
   "source": [
    "This model gave the RMSE score as 15.873\n",
    "As the instructions state- This score is based on testing 30% of the data, and post submission it will be tested\n",
    "on remaining 70% of the data, I considered chances of overfitting the model in effors of achieving lower RMSE."
   ]
  },
  {
   "cell_type": "markdown",
   "metadata": {},
   "source": [
    "There is a slight difference in the predicted Rating values in the result set above and the sample file I attached, though\n",
    "same model was used for both the results. As the model gives slightly different values on every fit. \n",
    "I have attached the sample file which gave me best result on first run with this model."
   ]
  },
  {
   "cell_type": "code",
   "execution_count": null,
   "metadata": {},
   "outputs": [],
   "source": []
  }
 ],
 "metadata": {
  "kernelspec": {
   "display_name": "Python 3",
   "language": "python",
   "name": "python3"
  },
  "language_info": {
   "codemirror_mode": {
    "name": "ipython",
    "version": 3
   },
   "file_extension": ".py",
   "mimetype": "text/x-python",
   "name": "python",
   "nbconvert_exporter": "python",
   "pygments_lexer": "ipython3",
   "version": "3.7.3"
  }
 },
 "nbformat": 4,
 "nbformat_minor": 2
}
